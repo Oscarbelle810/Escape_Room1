{
 "cells": [
  {
   "cell_type": "code",
   "execution_count": 1,
   "metadata": {},
   "outputs": [
    {
     "name": "stdout",
     "output_type": "stream",
     "text": [
      "ESCAPE ROOM\n"
     ]
    }
   ],
   "source": [
    "print(\"ESCAPE ROOM\")"
   ]
  },
  {
   "cell_type": "code",
   "execution_count": 2,
   "metadata": {
    "scrolled": true
   },
   "outputs": [
    {
     "name": "stdout",
     "output_type": "stream",
     "text": [
      "What is your name? Caitlin\n"
     ]
    }
   ],
   "source": [
    "name = input(\"What is your name? \")"
   ]
  },
  {
   "cell_type": "code",
   "execution_count": 3,
   "metadata": {},
   "outputs": [
    {
     "name": "stdout",
     "output_type": "stream",
     "text": [
      "Welcome to Escape Room, Caitlin\n"
     ]
    }
   ],
   "source": [
    "print(f\"Welcome to Escape Room, {name}\")"
   ]
  },
  {
   "cell_type": "code",
   "execution_count": 1,
   "metadata": {},
   "outputs": [],
   "source": [
    "#here, I will set up all of the variables. sigh... I'll start with just the ones essential to win. **update, no I wont, I'mma do this linearly. AI YA\n",
    "ev0001 = \"You awaken in a room. The double doors to the room are locked. It is about twenty five feet by twenty five feet. There are no windows. There is a fireplace on the wall to your left. There is a table in the center of the room with two chairs opposite each other, paintings hung on the walls, and a grand piano opposite the fireplace. \"\n",
    "ev0002 = \"You approach the fireplace. It is burning brightly. There seems to be enough fuel to last many hours. There is a fire poker leaning against the side of the fireplace.\"\n",
    "ev0003 = \"You approach the table.  It is a glossy dark red, and comes to just below waist height. There is a chess set on the table, as well as a score sheet. White is in checkmate.\"\n",
    "ev0004 = \"You approach the paintings. On inspection, they all appear to be print of famous works. There is Da Vinci's Mona Lisa, Van Gogh's Starry Night, Monet's Lilies, Vermeer's Girl with a Pearl Earring, Picasso's Guernica, Dali's The Big Sleep, and Munch's The Scream.\"\n",
    "ev0005 = \"You approach the piano. It is a glossy black grand piano, with the bench pulled slightly out. The lid is shut\"\n",
    "ev0006 = \"You are now armed with a firepoker.\"\n",
    "ev0007 = \"You stretch your hand into the fire. That was very stupid of you. A bottle of nitroglycerin falls from a hidden compartment in the chimney and explodes. BOOM. You are dead. \\nGAME OVER\"\n",
    "ev0008 = \"You look at the chess set. There is a score sheet, indicating that eighteen pieces were captured during the game. White is in checkmate\"\n",
    "#ev0009\n",
    "#ev0010\n",
    "\n",
    "\n",
    "#here I set up the options. These are your choices, as well as the input necessary to select a choice\n",
    "opt0001 = \"Would you like to \\n1. Examine the fireplace? \\n2. Examine the table? \\n3. Examine the paintings? \\n4. Examine the piano?\"\n",
    "opt0002 = \"Would you like to \\n1. Examine the table? \\n2. Examine the paintings? \\n3. Examine the piano? \\n4. Take the poker? \\n5. Touch the fire?\"\n",
    "opt0003 = \"Would you like to \\n1. Examine the fireplace? \\n2. Examine the paintings? \\n3. Examine the piano? \\n4. Examine the chessboard? \\n5. Examine the chairs?\"\n",
    "opt0004 = \"Would you like to \\n1. Examine the fireplace? \\n2. Examine the table? \\n3. Examine the piano? \\n4. Look at a painting more closely?\"\n",
    "opt0005 = \"Would you like to \\n1. Examine the fireplace? \\n2. Examine the table? \\n3. Examine the paintings? \\n4. Open the lid?\\n5. Play the piano?\"\n",
    "opt0006 = \"Would you like to \\n1. Examine the table? \\n2. Examine the paintings? \\n3. Examine the piano? \\n4. Touch the fire?\"\n",
    "#opt0007\n",
    "opt0008 = \"Would you like to \\n1. Examine the fireplace? \\n2. Examine the paintings? \\n3 Examine the piano? \\n4 Examine the chairs? \\n5. Move the chessboard?\"\n",
    "#opt0009\n",
    "#opt0010\n",
    "\n",
    "#And just because I can, I'm going to put my cheatsheet here.\n",
    "#current_event=1 is the start screen, corresponds to ev0001 and opt0001\n",
    "#current_event=2 is \"you approach the fireplace\" and corresponds to ev0002 and opt0002\n",
    "#current_event=3 is table and corresponds to ev0003 and opt0003\n",
    "#current_event=4 is paintings and corresponds to ev0004 and opt0004\n",
    "#current_event=5 is piano and corresponds to ev0005 and opt0005\n",
    "#current_event=6 is take firepoker. This one sets firepoker equal to True. corresponds to ev0006 and opt0006\n",
    "#current_event=7 is \"touch fire BOOM dead\". Sets dead equal to True. Corresponds to ev0007. no options available.\n",
    "#current_event=8 is \"examine chessboard\"\n",
    "#current_event=9 is \"examine chairs\"\n",
    "#current_event=10 is \"look at a painting more closely\"\n",
    "#current_event=11 is \"open piano lid\"\n",
    "#current_event=12 is \"play piano\"\n",
    "#current_event=13 is \n",
    "#current_event=14 is\n",
    "#current event=15 is"
   ]
  },
  {
   "cell_type": "code",
   "execution_count": 2,
   "metadata": {},
   "outputs": [],
   "source": [
    "current_event = 1\n",
    "alive = True\n",
    "win = False\n",
    "fire_poker = False\n",
    "\n",
    "choicetext = \"type the digit corresponding to the choice you make \"\n",
    "elsetext = \"please type a valid digit \""
   ]
  },
  {
   "cell_type": "code",
   "execution_count": null,
   "metadata": {},
   "outputs": [
    {
     "name": "stdout",
     "output_type": "stream",
     "text": [
      "You awaken in a room. The double doors to the room are locked. It is about twenty five feet by twenty five feet. There are no windows. There is a fireplace on the wall to your left. There is a table in the center of the room with two chairs opposite each other, paintings hung on the walls, and a grand piano opposite the fireplace. \n",
      "Would you like to \n",
      "1. Examine the fireplace? \n",
      "2. Examine the table? \n",
      "3. Examine the paintings? \n",
      "4. Examine the piano?\n",
      "type the digit corresponding to the choice you make 2\n",
      "You approach the table.  It is a glossy dark red, and comes to just below waist height. There is a chess set on the table, as well as a score sheet. White is in checkmate.\n",
      "Would you like to \n",
      "1. Examine the fireplace? \n",
      "2. Examine the paintings? \n",
      "3. Examine the piano? \n",
      "4. Examine the chessboard? \n",
      "5. Examine the chairs?\n",
      "type the digit corresponding to the choice you make 4\n",
      "You look at the chess set. There is a score sheet, indicating that eighteen pieces were captured during the game. White is in checkmate\n",
      "Would you like to \n",
      "1. Examine the fireplace? \n",
      "2. Examine the paintings? \n",
      "3 Examine the piano? \n",
      "4 Examine the chairs? \n",
      "5. Move the chessboard?\n"
     ]
    }
   ],
   "source": [
    "while alive == True and win == False:\n",
    "    while current_event == 1: #welcome text\n",
    "        print(ev0001)\n",
    "        print(opt0001)\n",
    "        choice = input(choicetext)\n",
    "        if choice == \"1\":\n",
    "            current_event = 2 #examine fireplace\n",
    "        elif choice == \"2\":\n",
    "            current_event = 3 #examine paintings\n",
    "        elif choice == \"3\":\n",
    "            current_event = 4 #examine table\n",
    "        elif choice == \"4\":\n",
    "            current_event = 5 #examine piano\n",
    "        else:\n",
    "            print(elsetext)\n",
    "    while current_event == 2: #examine fireplace\n",
    "        print(ev0002)\n",
    "        print(opt0002)\n",
    "        choice = input(choicetext)\n",
    "        if choice == \"1\": #examine table\n",
    "            current_event = 3\n",
    "        elif choice == \"2\": #examine paintings\n",
    "            current_event = 4\n",
    "        elif choice == \"3\": #examine piano\n",
    "            current_event = 5\n",
    "        elif choice == \"4\": #take the poker\n",
    "            current_event = 6\n",
    "        elif choice == \"5\": #touch the fire\n",
    "            current_event = 7\n",
    "        else:\n",
    "            print(elsetext)\n",
    "    while current_event == 3: #examine table\n",
    "        print(ev0003)\n",
    "        print(opt0003)\n",
    "        choice = input(choicetext)\n",
    "        if choice == \"1\": #examine fireplace\n",
    "            current_event = 2\n",
    "        elif choice == \"2\": #examine paintings\n",
    "            current_event = 4\n",
    "        elif choice == \"3\": #examine piano\n",
    "            current_event = 5\n",
    "        elif choice == \"4\": #examine chessboard\n",
    "            current_event = 8\n",
    "        elif choice == \"5\": #examine chairs\n",
    "            current_event == 9\n",
    "        else:\n",
    "            print(elsetext)\n",
    "    while current_event == 4: #examine paintings\n",
    "        print(ev0004)\n",
    "        print(opt0004)\n",
    "        choice = input(choicetext)\n",
    "        if choice == \"1\": #examine the fireplace\n",
    "            current_event = 2\n",
    "        elif choice == \"2\": #examine the table\n",
    "            current_event = 3\n",
    "        elif choice == \"3\": #examine the piano\n",
    "            current_event = 5\n",
    "        elif choice == \"4\": #look at a painting more closely\n",
    "            current_event = 10\n",
    "        else:\n",
    "            print(elsetext)\n",
    "    while current_event == 5: #examine piano\n",
    "        print(ev0005)\n",
    "        print(opt0005)\n",
    "        choice = input(choicetext)\n",
    "        if choice == \"1\": #examine fireplace\n",
    "            current_event = 2\n",
    "        elif choice == \"2\": #examine table\n",
    "            current_event = 3\n",
    "        elif choice == \"3\": #examine paintings\n",
    "            current_event = 4\n",
    "        elif choice == \"4\": #open piano lid\n",
    "            current_event = 11\n",
    "        elif choice == \"5\": #play piano\n",
    "            current_event = 12\n",
    "        else:\n",
    "            print(elsetext)\n",
    "    while current_event == 6: #take poker\n",
    "        firepoker = True\n",
    "        print(ev0006)\n",
    "        print(opt0006)\n",
    "        choice = input(choicetext)\n",
    "        if choice == \"1\": #examine table\n",
    "            current_event = 3\n",
    "        elif choice == \"2\": #examine paintings\n",
    "            current_event = 4\n",
    "        elif choice == \"3\": #examine piano\n",
    "            current_event = 5\n",
    "        elif choice == \"4\": #touch fireplace\n",
    "            current_event = 7\n",
    "        else:\n",
    "            print(elsetext)\n",
    "    while current_event == 7 and alive == True: #touch fireplace\n",
    "        print(ev0007)\n",
    "        alive = False\n",
    "    while current_event == 8: #examine the chessboard\n",
    "        print(ev0008)\n",
    "        print(opt0008)\n",
    "        choice = input(choicetext)\n",
    "        if choice == \"1\": #examine fireplace\n",
    "            current_event = 2\n",
    "        elif choice == \"2\": #examine paintings\n",
    "            current_event = 4\n",
    "        elif choice == \"3\": #examine piano\n",
    "            current_event = 5\n",
    "        elif choice == \"4\": #examine chairs\n",
    "            current_event = 9\n",
    "        elif choice == \"5\": #move chessboard violently\n",
    "            current_event = 13\n",
    "        elif choice == \"nd4\": #move chessboard gently\n",
    "            current_event = 14\n",
    "        else:\n",
    "            print(elsetext)\n",
    "    #while current_event == 9: #examine the chairs\n",
    "        #print(ev0009)\n",
    "        #print(opt0009)\n",
    "    #while current_event == 10: #look at a painting more closely\n",
    "    #while current_event == 11: #open piano lid\n",
    "    #while current-event == 12: #play piano\n",
    "    #while current_event == 13: #move chessboard gently\n",
    "    #while current_event == 14: #move chessboard violently\n",
    "    #while current_event == 15: #\n",
    "    #while current_event == 16: #\n",
    "    #while current_event == 17: #\n",
    "    #while current_event == 18: #\n",
    "    #while current_event == 19: #\n",
    "    #while current_event == 20: #"
   ]
  },
  {
   "cell_type": "code",
   "execution_count": null,
   "metadata": {},
   "outputs": [],
   "source": [
    "current_event"
   ]
  },
  {
   "cell_type": "code",
   "execution_count": 10,
   "metadata": {},
   "outputs": [
    {
     "name": "stdout",
     "output_type": "stream",
     "text": [
      "You approach the paintings. On inspection, they all appear to be print of famous works. There is Da Vinci's Mona Lisa, Van Gogh's Starry Night, Monet's Lilies, Vermeer's Girl with a Pearl Earring, Picasso's Guernica, Dali's The Big Sleep, and Munch's The Scream.\n",
      "Would you like to \n",
      "1. Examine the fireplace? \n",
      "2. Examine the table? \n",
      "3. Examine the piano? \n",
      "4. Look at a painting more closely?\n"
     ]
    }
   ],
   "source": [
    "print(ev0004)\n",
    "print(opt0004)"
   ]
  },
  {
   "cell_type": "code",
   "execution_count": 11,
   "metadata": {},
   "outputs": [
    {
     "name": "stdout",
     "output_type": "stream",
     "text": [
      "type the digit corresponding to the choice you make \n"
     ]
    },
    {
     "data": {
      "text/plain": [
       "str"
      ]
     },
     "execution_count": 11,
     "metadata": {},
     "output_type": "execute_result"
    }
   ],
   "source": [
    "choice = input(choicetext)\n",
    "type(choice)"
   ]
  },
  {
   "cell_type": "code",
   "execution_count": 12,
   "metadata": {},
   "outputs": [
    {
     "data": {
      "text/plain": [
       "''"
      ]
     },
     "execution_count": 12,
     "metadata": {},
     "output_type": "execute_result"
    }
   ],
   "source": [
    "choice"
   ]
  },
  {
   "cell_type": "code",
   "execution_count": 13,
   "metadata": {},
   "outputs": [
    {
     "data": {
      "text/plain": [
       "7"
      ]
     },
     "execution_count": 13,
     "metadata": {},
     "output_type": "execute_result"
    }
   ],
   "source": [
    "current_event"
   ]
  },
  {
   "cell_type": "code",
   "execution_count": 14,
   "metadata": {},
   "outputs": [
    {
     "name": "stdout",
     "output_type": "stream",
     "text": [
      "please type a valid digit \n"
     ]
    }
   ],
   "source": [
    "print(elsetext)"
   ]
  },
  {
   "cell_type": "code",
   "execution_count": null,
   "metadata": {},
   "outputs": [],
   "source": []
  },
  {
   "cell_type": "code",
   "execution_count": null,
   "metadata": {},
   "outputs": [],
   "source": []
  }
 ],
 "metadata": {
  "kernelspec": {
   "display_name": "Python 3",
   "language": "python",
   "name": "python3"
  },
  "language_info": {
   "codemirror_mode": {
    "name": "ipython",
    "version": 3
   },
   "file_extension": ".py",
   "mimetype": "text/x-python",
   "name": "python",
   "nbconvert_exporter": "python",
   "pygments_lexer": "ipython3",
   "version": "3.6.5"
  }
 },
 "nbformat": 4,
 "nbformat_minor": 2
}
