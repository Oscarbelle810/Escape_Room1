{
 "cells": [
  {
   "cell_type": "code",
   "execution_count": 134,
   "metadata": {},
   "outputs": [],
   "source": [
    "#define dictionaries here\n",
    "\n",
    "#events dictionary. Holds \"current event\":\"text that describes the event\"\n",
    "ev_dict = {\"1\":\"You awaken in a room. The double doors to the room are locked. It is about twenty five feet by twenty five feet. There are no windows. There is a fireplace on the wall to your left. There is a table in the center of the room with two chairs opposite each other, paintings hung on the walls, and a grand piano opposite the fireplace. \", \"2\": \"You approach the fireplace. It is burning brightly. There seems to be enough fuel to last many hours. There is a fire poker leaning against the side of the fireplace.\", \"3\":\"You approach the table.  It is a glossy dark red, and comes to just below waist height. There is a chess set on the table, as well as a score sheet. White is in checkmate.\", \"4\":\"You approach the paintings. On inspection, they all appear to be print of famous works. There is Da Vinci's Mona Lisa, Van Gogh's Starry Night, Monet's Lilies, Vermeer's Girl with a Pearl Earring, Picasso's Guernica, Dali's The Big Sleep, and Munch's The Scream.\",\"5\":\"You approach the piano. It is a glossy black grand piano, with the bench pulled slightly out. The lid is shut\", \"6\":\"You are now armed with a firepoker.\",\n",
    "    \"7\":\"You stretch your hand into the fire. That was very stupid of you. A bottle of nitroglycerin falls from a hidden compartment in the chimney and explodes. BOOM. You are dead. \\nGAME OVER\",\n",
    "    \"8\":\"EXAMINE CHESSBOARD\",\n",
    "    \"9\":\"ExAmINE CHAIRS\",\n",
    "    \"10\":\"LOOK AT A PAINTING MORE CLOSELY\",\n",
    "    \"11\":\"open piano lid\",\n",
    "    \"12\":\"play piano\"\n",
    "    }\n",
    "\n",
    "#options dictionary. Holds \"current_event\":\"options for what to do for current_event\"\n",
    "opt_dict = {\n",
    "    \"1\":\"Would you like to \\n1. Examine the fireplace? \\n2. Examine the table? \\n3. Examine the paintings? \\n4. Examine the piano?\",\"2\":\"Would you like to \\n1. Examine the table? \\n2. Examine the paintings? \\n3. Examine the piano? \\n4. Take the poker? \\n5. Touch the fire?\",\"3\":\"Would you like to \\n1. Examine the fireplace? \\n2. Examine the paintings? \\n3. Examine the piano? \\n4. Examine the chessboard? \\n5. Examine the chairs?\",\"4\":\"Would you like to \\n1. Examine the fireplace? \\n2. Examine the table? \\n3. Examine the piano? \\n4. Look at a painting more closely?\",\"5\":\"Would you like to \\n1. Examine the fireplace? \\n2. Examine the table? \\n3. Examine the paintings? \\n4. Open the lid?\\n5. Play the piano?\",\n",
    "    \"6\":\"Would you like to \\n1. Examine the table? \\n2. Examine the paintings? \\n3. Examine the piano? \\n4. Touch the fire?\",\n",
    "    \"8\":\"examine chessboard\",\n",
    "    \"9\":\"\",\n",
    "    \"10\":\"\",\n",
    "    \"11\":\"\"\n",
    "}\n",
    "\n",
    "#choices dictionary. This one holds current_event:(list of possible choices that then become current event)\n",
    "choice_dict = {\"1\":[\"2\", \"3\", \"4\", \"5\"],\"2\":[\"3\", \"4\", \"5\", \"6\", \"7\"],\n",
    "              \"3\":[\"2\", \"4\", \"5\", \"8\", \"9\"],\n",
    "              \"4\":[\"2\",\"3\",\"5\",\"10\"],\n",
    "              \"5\":[\"2\", \"3\", \"4\", \"11\", \"12\"]}"
   ]
  },
  {
   "cell_type": "code",
   "execution_count": 135,
   "metadata": {},
   "outputs": [
    {
     "name": "stdout",
     "output_type": "stream",
     "text": [
      "You approach the piano. It is a glossy black grand piano, with the bench pulled slightly out. The lid is shut\n",
      "Would you like to \n",
      "1. Examine the fireplace? \n",
      "2. Examine the table? \n",
      "3. Examine the paintings? \n",
      "4. Open the lid?\n",
      "5. Play the piano?\n"
     ]
    },
    {
     "data": {
      "text/plain": [
       "'2'"
      ]
     },
     "execution_count": 135,
     "metadata": {},
     "output_type": "execute_result"
    }
   ],
   "source": [
    "current_event = \"5\"\n",
    "\n",
    "print(ev_dict[(current_event)])\n",
    "print(opt_dict[(current_event)])\n",
    "\n",
    "choice_dict[current_event][0]\n",
    "\n",
    "#print(ev_dict[\"4\"])\n",
    "#mylist = [1,2,3]\n",
    "#print(type(mylist))"
   ]
  },
  {
   "cell_type": "code",
   "execution_count": 165,
   "metadata": {},
   "outputs": [],
   "source": [
    "#define functions here:\n",
    "def replay():\n",
    "    replay = input(\"Would you like to play again?\")\n",
    "    return replay.lower()[0] == \"y\"\n",
    "\n",
    "choice_text = \"Type the digit of the choice you make \"\n",
    "item = 0\n",
    "choice = 0\n",
    "current_event = \"5\"\n",
    "\n",
    "def choice():\n",
    "    player_choice = input(choice_text)\n",
    "    print(type(player_choice))\n",
    "    player_choice = int(player_choice)\n",
    "    player_choice -= 1\n",
    "    print(type(player_choice))\n",
    "    return choice\n",
    "#    if type(choice) == int:\n",
    "#        choice = int(choice) - 1\n",
    "#        return choice\n",
    "#    else:\n",
    "#        return choice\n",
    "        \n",
    "#def turn(current_event):\n",
    "#    print(ev_dict[current_event])\n",
    "#    print(opt_dict[current_event])\n",
    "    #choice = (int(input(choice_text))) - 1\n",
    "    #choice -= 1\n",
    "#    choice = choice()\n",
    "#    item = choice_dict[current_event][choice]\n",
    "#    current_event = str(item)\n",
    "#    return(current_event)\n",
    "#current_event = \"1\"\n",
    "#turn(current_event)\n",
    "#print(choice)\n",
    "#print(item)\n",
    "#print(current_event)\n",
    "#print(choice_dict[current_event])\n",
    "#print(choice_dict[current_event][1])"
   ]
  },
  {
   "cell_type": "code",
   "execution_count": 166,
   "metadata": {},
   "outputs": [
    {
     "name": "stdout",
     "output_type": "stream",
     "text": [
      "You approach the piano. It is a glossy black grand piano, with the bench pulled slightly out. The lid is shut\n",
      "Would you like to \n",
      "1. Examine the fireplace? \n",
      "2. Examine the table? \n",
      "3. Examine the paintings? \n",
      "4. Open the lid?\n",
      "5. Play the piano?\n",
      "Type the digit of the choice you make 1\n",
      "<class 'str'>\n",
      "<class 'int'>\n",
      "<class 'function'>\n"
     ]
    },
    {
     "ename": "TypeError",
     "evalue": "list indices must be integers or slices, not function",
     "output_type": "error",
     "traceback": [
      "\u001b[1;31m---------------------------------------------------------------------------\u001b[0m",
      "\u001b[1;31mTypeError\u001b[0m                                 Traceback (most recent call last)",
      "\u001b[1;32m<ipython-input-166-88410bdc4072>\u001b[0m in \u001b[0;36m<module>\u001b[1;34m()\u001b[0m\n\u001b[0;32m     11\u001b[0m     \u001b[1;32mreturn\u001b[0m\u001b[1;33m(\u001b[0m\u001b[0mcurrent_event\u001b[0m\u001b[1;33m)\u001b[0m\u001b[1;33m\u001b[0m\u001b[0m\n\u001b[0;32m     12\u001b[0m \u001b[1;31m#current_event = \"1\"\u001b[0m\u001b[1;33m\u001b[0m\u001b[1;33m\u001b[0m\u001b[0m\n\u001b[1;32m---> 13\u001b[1;33m \u001b[0mturn\u001b[0m\u001b[1;33m(\u001b[0m\u001b[0mcurrent_event\u001b[0m\u001b[1;33m)\u001b[0m\u001b[1;33m\u001b[0m\u001b[0m\n\u001b[0m",
      "\u001b[1;32m<ipython-input-166-88410bdc4072>\u001b[0m in \u001b[0;36mturn\u001b[1;34m(current_event)\u001b[0m\n\u001b[0;32m      7\u001b[0m     \u001b[0mresult\u001b[0m \u001b[1;33m=\u001b[0m \u001b[0mchoice\u001b[0m\u001b[1;33m(\u001b[0m\u001b[1;33m)\u001b[0m\u001b[1;33m\u001b[0m\u001b[0m\n\u001b[0;32m      8\u001b[0m     \u001b[0mprint\u001b[0m\u001b[1;33m(\u001b[0m\u001b[0mtype\u001b[0m\u001b[1;33m(\u001b[0m\u001b[0mresult\u001b[0m\u001b[1;33m)\u001b[0m\u001b[1;33m)\u001b[0m\u001b[1;33m\u001b[0m\u001b[0m\n\u001b[1;32m----> 9\u001b[1;33m     \u001b[0mitem\u001b[0m \u001b[1;33m=\u001b[0m \u001b[0mchoice_dict\u001b[0m\u001b[1;33m[\u001b[0m\u001b[0mcurrent_event\u001b[0m\u001b[1;33m]\u001b[0m\u001b[1;33m[\u001b[0m\u001b[0mresult\u001b[0m\u001b[1;33m]\u001b[0m\u001b[1;33m\u001b[0m\u001b[0m\n\u001b[0m\u001b[0;32m     10\u001b[0m     \u001b[0mcurrent_event\u001b[0m \u001b[1;33m=\u001b[0m \u001b[0mstr\u001b[0m\u001b[1;33m(\u001b[0m\u001b[0mitem\u001b[0m\u001b[1;33m)\u001b[0m\u001b[1;33m\u001b[0m\u001b[0m\n\u001b[0;32m     11\u001b[0m     \u001b[1;32mreturn\u001b[0m\u001b[1;33m(\u001b[0m\u001b[0mcurrent_event\u001b[0m\u001b[1;33m)\u001b[0m\u001b[1;33m\u001b[0m\u001b[0m\n",
      "\u001b[1;31mTypeError\u001b[0m: list indices must be integers or slices, not function"
     ]
    }
   ],
   "source": [
    "player_choice = 0\n",
    "def turn(current_event):\n",
    "    print(ev_dict[current_event])\n",
    "    print(opt_dict[current_event])\n",
    "    #choice = (int(input(choice_text))) - 1\n",
    "    #choice -= 1\n",
    "    result = choice()\n",
    "    print(type(result))\n",
    "    item = choice_dict[current_event][result]\n",
    "    current_event = str(item)\n",
    "    return(current_event)\n",
    "#current_event = \"1\"\n",
    "turn(current_event)"
   ]
  },
  {
   "cell_type": "code",
   "execution_count": 157,
   "metadata": {},
   "outputs": [
    {
     "name": "stdout",
     "output_type": "stream",
     "text": [
      "Type the digit of the choice you make 1\n",
      "<class 'str'>\n"
     ]
    },
    {
     "ename": "TypeError",
     "evalue": "int() argument must be a string, a bytes-like object or a number, not 'function'",
     "output_type": "error",
     "traceback": [
      "\u001b[1;31m---------------------------------------------------------------------------\u001b[0m",
      "\u001b[1;31mTypeError\u001b[0m                                 Traceback (most recent call last)",
      "\u001b[1;32m<ipython-input-157-fa3e84e4d44e>\u001b[0m in \u001b[0;36m<module>\u001b[1;34m()\u001b[0m\n\u001b[0;32m      1\u001b[0m \u001b[0mplayer_choice\u001b[0m \u001b[1;33m=\u001b[0m \u001b[1;36m0\u001b[0m\u001b[1;33m\u001b[0m\u001b[0m\n\u001b[1;32m----> 2\u001b[1;33m \u001b[0mchoice\u001b[0m\u001b[1;33m(\u001b[0m\u001b[1;33m)\u001b[0m\u001b[1;33m\u001b[0m\u001b[0m\n\u001b[0m\u001b[0;32m      3\u001b[0m \u001b[0mprint\u001b[0m\u001b[1;33m(\u001b[0m\u001b[0mchoice\u001b[0m\u001b[1;33m)\u001b[0m\u001b[1;33m\u001b[0m\u001b[0m\n\u001b[0;32m      4\u001b[0m \u001b[0mprint\u001b[0m\u001b[1;33m(\u001b[0m\u001b[0mtype\u001b[0m\u001b[1;33m(\u001b[0m\u001b[0mchoice\u001b[0m\u001b[1;33m)\u001b[0m\u001b[1;33m)\u001b[0m\u001b[1;33m\u001b[0m\u001b[0m\n",
      "\u001b[1;32m<ipython-input-155-b4ca0bd030cc>\u001b[0m in \u001b[0;36mchoice\u001b[1;34m()\u001b[0m\n\u001b[0;32m     12\u001b[0m     \u001b[0mplayer_choice\u001b[0m \u001b[1;33m=\u001b[0m \u001b[0minput\u001b[0m\u001b[1;33m(\u001b[0m\u001b[0mchoice_text\u001b[0m\u001b[1;33m)\u001b[0m\u001b[1;33m\u001b[0m\u001b[0m\n\u001b[0;32m     13\u001b[0m     \u001b[0mprint\u001b[0m\u001b[1;33m(\u001b[0m\u001b[0mtype\u001b[0m\u001b[1;33m(\u001b[0m\u001b[0mplayer_choice\u001b[0m\u001b[1;33m)\u001b[0m\u001b[1;33m)\u001b[0m\u001b[1;33m\u001b[0m\u001b[0m\n\u001b[1;32m---> 14\u001b[1;33m     \u001b[0mplayer_choice\u001b[0m \u001b[1;33m=\u001b[0m \u001b[0mint\u001b[0m\u001b[1;33m(\u001b[0m\u001b[0mchoice\u001b[0m\u001b[1;33m)\u001b[0m\u001b[1;33m\u001b[0m\u001b[0m\n\u001b[0m\u001b[0;32m     15\u001b[0m     \u001b[0mplayer_choice\u001b[0m \u001b[1;33m-=\u001b[0m \u001b[1;36m1\u001b[0m\u001b[1;33m\u001b[0m\u001b[0m\n\u001b[0;32m     16\u001b[0m     \u001b[1;32mreturn\u001b[0m \u001b[0mchoice\u001b[0m\u001b[1;33m\u001b[0m\u001b[0m\n",
      "\u001b[1;31mTypeError\u001b[0m: int() argument must be a string, a bytes-like object or a number, not 'function'"
     ]
    }
   ],
   "source": [
    "player_choice = 0\n",
    "choice()\n",
    "print(choice)\n",
    "print(type(choice))"
   ]
  },
  {
   "cell_type": "code",
   "execution_count": 114,
   "metadata": {},
   "outputs": [],
   "source": [
    "#the game itself is a function this time\n",
    "\n",
    "def escape_room():\n",
    "  \n",
    "    play = True\n",
    "\n",
    "    #greets the player\n",
    "    print(\"ESCAPE ROOM\")\n",
    "    name = input(\"What is your name? \").capitalize()\n",
    "    print(f\"Welcome to Escape Room, {name}\")\n",
    "    \n",
    "    #sets up a few strings for use later\n",
    "    choice_text = \"Type the digit of the choice you make\"\n",
    "    else_text = \"Please type a valid digit\"\n",
    "    current_event = \"1\"\n",
    "    #begin to play\n",
    "    while play:\n",
    "        #sets basic variables\n",
    "        \n",
    "        alive = True\n",
    "        win = False\n",
    "        firepoker = False\n",
    "        #current_event = \" \"\n",
    "        game = \"on\"\n",
    "        \n",
    "        while game == \"on\":\n",
    "            if current_event == \"7\":\n",
    "                print(ev_dict[str(current_event)])\n",
    "                game = \"off\"\n",
    "            else:\n",
    "                current_event = turn(current_event)\n",
    "        \n",
    "        if not replay():\n",
    "            print(f\"Goodbye, {name}\")\n",
    "            break\n",
    "        print(current_event)\n",
    "        print(type(current_event))\n",
    "        break\n",
    "        "
   ]
  },
  {
   "cell_type": "code",
   "execution_count": 115,
   "metadata": {},
   "outputs": [
    {
     "name": "stdout",
     "output_type": "stream",
     "text": [
      "ESCAPE ROOM\n",
      "What is your name? 1\n",
      "Welcome to Escape Room, 1\n",
      "You awaken in a room. The double doors to the room are locked. It is about twenty five feet by twenty five feet. There are no windows. There is a fireplace on the wall to your left. There is a table in the center of the room with two chairs opposite each other, paintings hung on the walls, and a grand piano opposite the fireplace. \n",
      "Would you like to \n",
      "1. Examine the fireplace? \n",
      "2. Examine the table? \n",
      "3. Examine the paintings? \n",
      "4. Examine the piano?\n",
      "Type the digit of the choice you make 1\n",
      "You approach the fireplace. It is burning brightly. There seems to be enough fuel to last many hours. There is a fire poker leaning against the side of the fireplace.\n",
      "Would you like to \n",
      "1. Examine the table? \n",
      "2. Examine the paintings? \n",
      "3. Examine the piano? \n",
      "4. Take the poker? \n",
      "5. Touch the fire?\n",
      "Type the digit of the choice you make 5\n",
      "You stretch your hand into the fire. That was very stupid of you. A bottle of nitroglycerin falls from a hidden compartment in the chimney and explodes. BOOM. You are dead. \n",
      "GAME OVER\n",
      "Would you like to play again?n\n",
      "Goodbye, 1\n"
     ]
    }
   ],
   "source": [
    "escape_room()"
   ]
  },
  {
   "cell_type": "code",
   "execution_count": 180,
   "metadata": {},
   "outputs": [
    {
     "data": {
      "text/plain": [
       "'Hello, Sam'"
      ]
     },
     "execution_count": 180,
     "metadata": {},
     "output_type": "execute_result"
    }
   ],
   "source": [
    "asdf = \"John\"\n",
    "fdsa = \"Sam\"\n",
    "\n",
    "def my_func(asdf):\n",
    "    return asdf\n",
    "\n",
    "def new_func(asdf):\n",
    "    name = myfunc(asdf)\n",
    "    return (f\"Hello, {name}\")\n",
    "new_func(fdsa)"
   ]
  },
  {
   "cell_type": "code",
   "execution_count": null,
   "metadata": {},
   "outputs": [],
   "source": []
  }
 ],
 "metadata": {
  "kernelspec": {
   "display_name": "Python 3",
   "language": "python",
   "name": "python3"
  },
  "language_info": {
   "codemirror_mode": {
    "name": "ipython",
    "version": 3
   },
   "file_extension": ".py",
   "mimetype": "text/x-python",
   "name": "python",
   "nbconvert_exporter": "python",
   "pygments_lexer": "ipython3",
   "version": "3.6.5"
  }
 },
 "nbformat": 4,
 "nbformat_minor": 2
}
