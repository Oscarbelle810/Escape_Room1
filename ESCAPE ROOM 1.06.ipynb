{
 "cells": [
  {
   "cell_type": "code",
   "execution_count": 7,
   "metadata": {},
   "outputs": [
    {
     "name": "stdout",
     "output_type": "stream",
     "text": [
      "ESCAPE ROOM\n"
     ]
    }
   ],
   "source": [
    "print(\"ESCAPE ROOM\")"
   ]
  },
  {
   "cell_type": "code",
   "execution_count": 8,
   "metadata": {
    "scrolled": true
   },
   "outputs": [
    {
     "name": "stdout",
     "output_type": "stream",
     "text": [
      "What is your name? Robert\n"
     ]
    }
   ],
   "source": [
    "name = input(\"What is your name? \")"
   ]
  },
  {
   "cell_type": "code",
   "execution_count": 9,
   "metadata": {},
   "outputs": [
    {
     "name": "stdout",
     "output_type": "stream",
     "text": [
      "Welcome to Escape Room, Robert\n"
     ]
    }
   ],
   "source": [
    "print(f\"Welcome to Escape Room, {name}\")"
   ]
  },
  {
   "cell_type": "code",
   "execution_count": 10,
   "metadata": {},
   "outputs": [],
   "source": [
    "#here, I will set up all of the variables. sigh... I'll start with just the ones essential to win.\n",
    "ev0001 = \"You awaken in a room. The double doors to the room are locked. It is about twenty five feet by twenty five feet. There are no windows. There is a fireplace on the wall to your left. There is a table in the center of the room with two chairs opposite each other, paintings hung on the walls, and a grand piano opposite the fireplace. \"\n",
    "ev0002 = \"You approach the fireplace. It is burning brightly. There seems to be enough fuel to last many hours. There is a fire poker leaning against the side of the fireplace.\"\n",
    "ev0003 = \"You approach the table.  It is a glossy dark red, and comes to just below waist height. There is a chess set on the table, as well as a score sheet. White is in checkmate.\"\n",
    "ev0004 = \"You approach the paintings. On inspection, they all appear to be print of famous works. There is Da Vinci's Mona Lisa, Van Gogh's Starry Night, Monet's Lilies, Vermeer's Girl with a Pearl Earring, Picasso's Guernica, Dali's The Big Sleep, and Munch's The Scream.\"\n",
    "\n",
    "\n",
    "\n",
    "\n",
    "#here I set up the options. These are your choices, as well as the input necessary to select a choice\n",
    "opt0001 = \"Would you like to \\n1. Examine the fireplace? \\n2. Examine the table? \\n3. Examine the paintings? \\n4. Examine the piano?\"\n",
    "opt0002 = \"Would you like to \\n1. Examine the table? \\n2. Examine the paintings? \\n3. Examine the piano? \\n4. Take the poker? \\n5. Touch the fire?\"\n",
    "opt0003 = \"Would you like to \\n1. Examine the fireplace? \\n2. Examine the paintings? \\n3. Examine the piano? \\n4 Examine the chessboard?\"\n",
    "opt0004 = \"Would you like to \\n1. Examine the fireplace? \\n2. Examine the table? \\n3. Examine the piano? \\n4 Look at a painting more closely?\"\n",
    "\n",
    "#And just because I can, I'm going to put my cheatsheet here.\n",
    "#current_event=1 is the start screen, corresponds to ev0001 and opt0001\n",
    "#current_event=2 is \"you approach the fireplace\" and corresponds to ev0002 and opt0002"
   ]
  },
  {
   "cell_type": "code",
   "execution_count": 11,
   "metadata": {},
   "outputs": [],
   "source": [
    "current_event = 1"
   ]
  },
  {
   "cell_type": "code",
   "execution_count": 12,
   "metadata": {},
   "outputs": [
    {
     "name": "stdout",
     "output_type": "stream",
     "text": [
      "You awaken in a room. The double doors to the room are locked. It is about twenty five feet by twenty five feet. There are no windows. There is a fireplace on the wall to your left. There is a table in the center of the room with two chairs opposite each other, paintings hung on the walls, and a grand piano opposite the fireplace. \n",
      "Would you like to \n",
      "1. Examine the fireplace? \n",
      "2. Examine the table? \n",
      "3. Examine the paintings? \n",
      "4. Examine the piano?\n",
      "type the digit coresponding to the choice you make 2\n"
     ]
    }
   ],
   "source": [
    "if current_event == 1:\n",
    "    print(ev0001)\n",
    "    print(opt0001)\n",
    "    choice = input(\"type the digit coresponding to the choice you make \")\n",
    "    int(choice)\n",
    "    if int(choice) == 1:\n",
    "        current_event = 2\n",
    "    elif choice == \"2\":\n",
    "        current_event = 3\n",
    "    elif choice == \"3\":\n",
    "        current_event = 4\n",
    "    elif choice == \"4\":\n",
    "        current_event = 5\n",
    "    else:\n",
    "        choice = input (\"please type a valid digit\")"
   ]
  },
  {
   "cell_type": "code",
   "execution_count": 13,
   "metadata": {},
   "outputs": [],
   "source": [
    "if current_event == 2:\n",
    "    print(ev0002)\n",
    "    print(opt0002)\n",
    "    choice = input(\"type the digit coresponding to the choice you make \")"
   ]
  },
  {
   "cell_type": "code",
   "execution_count": 14,
   "metadata": {},
   "outputs": [
    {
     "name": "stdout",
     "output_type": "stream",
     "text": [
      "You approach the table.  It is a glossy dark red, and comes to just below waist height. There is a chess set on the table, as well as a score sheet. White is in checkmate.\n",
      "Would you like to \n",
      "1. Examine the fireplace? \n",
      "2. Examine the paintings? \n",
      "3. Examine the piano? \n",
      "4 Examine the chessboard?\n",
      "type the digit coresponding to the choice you make 3\n"
     ]
    }
   ],
   "source": [
    "if current_event == 3:\n",
    "    print(ev0003)\n",
    "    print(opt0003)\n",
    "    choice = input(\"type the digit coresponding to the choice you make \")"
   ]
  },
  {
   "cell_type": "code",
   "execution_count": 10,
   "metadata": {},
   "outputs": [],
   "source": [
    "choice = \"5\""
   ]
  },
  {
   "cell_type": "code",
   "execution_count": 14,
   "metadata": {},
   "outputs": [],
   "source": [
    "if choice == \"1\":\n",
    "    current_event = 2\n",
    "elif choice == \"2\":\n",
    "    current_event = 3\n",
    "elif choice == \"3\":\n",
    "    current_event = 4\n",
    "elif choice == \"4\":\n",
    "    current_event = 5\n",
    "else:\n",
    "    choice = input (\"please type a valid digit\")"
   ]
  },
  {
   "cell_type": "code",
   "execution_count": 13,
   "metadata": {},
   "outputs": [
    {
     "data": {
      "text/plain": [
       "2"
      ]
     },
     "execution_count": 13,
     "metadata": {},
     "output_type": "execute_result"
    }
   ],
   "source": [
    "current_event"
   ]
  },
  {
   "cell_type": "code",
   "execution_count": null,
   "metadata": {},
   "outputs": [],
   "source": []
  },
  {
   "cell_type": "code",
   "execution_count": null,
   "metadata": {},
   "outputs": [],
   "source": []
  }
 ],
 "metadata": {
  "kernelspec": {
   "display_name": "Python 3",
   "language": "python",
   "name": "python3"
  },
  "language_info": {
   "codemirror_mode": {
    "name": "ipython",
    "version": 3
   },
   "file_extension": ".py",
   "mimetype": "text/x-python",
   "name": "python",
   "nbconvert_exporter": "python",
   "pygments_lexer": "ipython3",
   "version": "3.6.5"
  }
 },
 "nbformat": 4,
 "nbformat_minor": 2
}
