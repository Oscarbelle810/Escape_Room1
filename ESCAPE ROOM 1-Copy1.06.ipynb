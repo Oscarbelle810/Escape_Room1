{
 "cells": [
  {
   "cell_type": "code",
   "execution_count": 1,
   "metadata": {
    "scrolled": true
   },
   "outputs": [
    {
     "name": "stdout",
     "output_type": "stream",
     "text": [
      "ESCAPE ROOM\n"
     ]
    }
   ],
   "source": [
    "print(\"ESCAPE ROOM\")"
   ]
  },
  {
   "cell_type": "code",
   "execution_count": 2,
   "metadata": {
    "scrolled": true
   },
   "outputs": [
    {
     "name": "stdout",
     "output_type": "stream",
     "text": [
      "What is your name? \n"
     ]
    }
   ],
   "source": [
    "name = input(\"What is your name? \")"
   ]
  },
  {
   "cell_type": "code",
   "execution_count": 3,
   "metadata": {},
   "outputs": [
    {
     "name": "stdout",
     "output_type": "stream",
     "text": [
      "Welcome to Escape Room, \n"
     ]
    }
   ],
   "source": [
    "print(f\"Welcome to Escape Room, {name}\")"
   ]
  },
  {
   "cell_type": "code",
   "execution_count": 4,
   "metadata": {},
   "outputs": [],
   "source": [
    "#here, I will set up all of the variables. sigh... I'll start with just the ones essential to win.\n",
    "ev0001 = \"You awaken in a room. The double doors to the room are locked. It is about twenty five feet by twenty five feet. There are no windows. There is a fireplace on the wall to your left. There is a table in the center of the room with two chairs opposite each other, paintings hung on the walls, and a grand piano opposite the fireplace. \"\n",
    "ev0002 = \"You approach the fireplace. It is burning brightly. There seems to be enough fuel to last many hours. There is a fire poker leaning against the side of the fireplace.\"\n",
    "ev0003 = \"You approach the table.  It is a glossy dark red, and comes to just below waist height. There is a chess set on the table, as well as a score sheet. White is in checkmate.\"\n",
    "ev0004 = \"You approach the paintings. On inspection, they all appear to be print of famous works. There is Da Vinci's Mona Lisa, Van Gogh's Starry Night, Monet's Lilies, Vermeer's Girl with a Pearl Earring, Picasso's Guernica, Dali's The Big Sleep, and Munch's The Scream. There is also a plaque beneath the paintings with words on it.\"\n",
    "ev0005 = \"You approach the piano. It is large, black, and shiny. The lid is closed, and the piano bench is pulled out slightly. \"\n",
    "ev0006 = \"You are now armed with a firepoker.\"\n",
    "ev0007 = \"You stretch your hand into the fire. That was very stupid of you. A bottle of nitroglycerin falls from a hidden compartment in the chimney. BOOM. You are dead. \\nGAME OVER\"\n",
    "ev0008 = \"You look at the chess set. There is a score sheet, indicating that eighteen pieces have been captured and removed from play. White is in checkmate.\"\n",
    "ev0009 = \"You\"\n",
    "#ev0010 =\n",
    "ev0012 = \"You pull the piano bench out the rest of the way. You take a seat and press the keys. None of them make a sound. Frowning, you continue to try to play, only to find more silent keys. You finally press the leftmost key and run your hand across the whole length of the piano. You stop at the 76th key from the left, a white key, which makes a sound. You finish running your hand along the rest of the piano, but no other key sounds.\"\n",
    "#ev0013 = \n",
    "#ev0014 = \n",
    "#ev0015 =\n",
    "#ev0016 =\n",
    "#ev0017 =\n",
    "#ev0018 =\n",
    "#ev0019 =\n",
    "#ev0020 =\n",
    "ev0021 = \"You step away from the paintings.\"\n",
    "ev0022 = \"You approach the plaque beneath the paintings. It says: \\n''\"\n",
    "#ev0023 =\n",
    "#ev0024 =\n",
    "#ev0025 =\n",
    "\n",
    "\n",
    "\n",
    "\n",
    "#here I set up the options. These are your choices, as well as the input necessary to select a choice\n",
    "opt0001 = \"Would you like to \\n1. Examine the fireplace? \\n2. Examine the table? \\n3. Examine the paintings? \\n4. Examine the piano?\"\n",
    "opt0002 = \"Would you like to \\n1. Examine the table? \\n2. Examine the paintings? \\n3. Examine the piano? \\n4. Take the poker? \\n5. Touch the fire?\"\n",
    "opt0003 = \"Would you like to \\n1. Examine the fireplace? \\n2. Examine the paintings? \\n3. Examine the piano? \\n4. Examine the chessboard?\"\n",
    "opt0004 = \"Would you like to \\n1. Examine the fireplace? \\n2. Examine the table? \\n3. Examine the piano? \\n4. Look at a painting more closely? \\n5. Look at the plaque?\"\n",
    "opt0005 = \"Would you like to \\n1. Examine the fireplace? \\n2. Examine the table? \\n3. Examine the paintings? \\n4. Play the piano? \\n5. Open the piano?\"\n",
    "opt0006 = \"Would you like to \\n1. Examine the fireplace? \\n2. Examine the table? \\n3. Examine the paintings? \\n4. Examine the piano?\"\n",
    "opt0008 = \"Would you like to \\n1. Examine the fireplace? \\n2. Examine the paintings? \\n3. Examine the piano? \\n4. Move the chessboard?\"\n",
    "opt0009 = \"Would you like to \\n1. Examine the fireplace? \\n2. Examine the paintings? \\n3. Examine the piano? \\n.\"\n",
    "opt0010 = \"Would you like to \\n1. Examine the fireplace? \\n2. Examine the paintings? \\n3. Examine the piano? \\n4. Replace chessboard?\"\n",
    "opt0011 = \"Which painting would you like to view? \\n1. The Mona Lisa \\n2. Starry Night \\n3. Lilies \\n4. Girl with a Pearl Earring \\n5. Guernica \\n6. The Big Sleep \\n7. The Scream \\n8. I don't want to look at a painting.\"\n",
    "opt0012 = \"Would you like to \\n1. Examine the fireplace? \\n2. Examine the table? \\n3. Examine the paintings? \\n4. Open the piano?\"\n",
    "#opt0013\n",
    "#opt0014\n",
    "#opt0015\n",
    "#opt0015\n",
    "#opt0016\n",
    "#opt0017\n",
    "#opt0018\n",
    "#opt0019\n",
    "#opt0020\n",
    "opt0021 = \"Would you like to \\n1. Examine the fireplace? \\n2. Examine the table? \\n3. Examine the piano?\"\n",
    "opt0022 = \"Would you like to \\n1. Examine the fireplace? \\n2. Examine the table? \\n3. Examine the piano? \\n4. Look at a painting more closely?\"\n",
    "\n",
    "\n",
    "#And just because I can, I'm going to put my cheatsheet here.\n",
    "#current_event=1 is the start screen, corresponds to ev0001 and opt0001\n",
    "#current_event=2 is \"you approach the fireplace\" and corresponds to ev0002 and opt0002\n",
    "#current_event=3 is\"approach table\" and coresponds to ev0003 and opt0003\n",
    "#current_event=4 is \"aproach paintings\" and coresponds to ev0004 and opt0004\n",
    "#current_event=5 is \"approach piano\" and coresponds to ev0005 and opt0005\n",
    "#current_event=6 is \"grab poker. Corresponds with ev0006 and opt0006\n",
    "#current_event=7 is death by nitroglycerin, game over. Corresponds to ev0007, no opt for this one\n",
    "#current_event=8 is examine chessboard. Corresponds to ev0008 and opt 0008\n",
    "#current_event=9 is move chessboard violently\n",
    "#current_event=10 is move chessboard gently\n",
    "#current_event=11 is options for looking at the paintings\n",
    "#current_event=12\n",
    "#current_event=13\n",
    "#current_event=14\n",
    "#current_event=15\n",
    "#current_event=16\n",
    "#current_event=17\n",
    "#current_event=18\n",
    "#current_event=19\n",
    "#current_event=20\n",
    "#current_event=21"
   ]
  },
  {
   "cell_type": "code",
   "execution_count": 5,
   "metadata": {},
   "outputs": [],
   "source": [
    "current_event = 1"
   ]
  },
  {
   "cell_type": "code",
   "execution_count": 6,
   "metadata": {},
   "outputs": [],
   "source": [
    "alive = True\n",
    "win = False\n",
    "firepoker = False\n"
   ]
  },
  {
   "cell_type": "markdown",
   "metadata": {},
   "source": [
    "Ok, this is how to quickly end the game with a loss: select any option that leads to Examine fireplace. select Touch fire. Done."
   ]
  },
  {
   "cell_type": "code",
   "execution_count": null,
   "metadata": {},
   "outputs": [],
   "source": []
  },
  {
   "cell_type": "code",
   "execution_count": 7,
   "metadata": {},
   "outputs": [
    {
     "name": "stdout",
     "output_type": "stream",
     "text": [
      "You approach the paintings. On inspection, they all appear to be print of famous works. There is Da Vinci's Mona Lisa, Van Gogh's Starry Night, Monet's Lilies, Vermeer's Girl with a Pearl Earring, Picasso's Guernica, Dali's The Big Sleep, and Munch's The Scream. There is also a plaque beneath the paintings with words on it.\n",
      "Would you like to \n",
      "1. Examine the fireplace? \n",
      "2. Examine the table? \n",
      "3. Examine the piano? \n",
      "4. Look at a painting more closely? \n",
      "5. Look at the plaque?\n"
     ]
    }
   ],
   "source": [
    "print(ev0004)\n",
    "print(opt0004)"
   ]
  },
  {
   "cell_type": "code",
   "execution_count": null,
   "metadata": {},
   "outputs": [
    {
     "name": "stdout",
     "output_type": "stream",
     "text": [
      "You awaken in a room. The double doors to the room are locked. It is about twenty five feet by twenty five feet. There are no windows. There is a fireplace on the wall to your left. There is a table in the center of the room with two chairs opposite each other, paintings hung on the walls, and a grand piano opposite the fireplace. \n",
      "Would you like to \n",
      "1. Examine the fireplace? \n",
      "2. Examine the table? \n",
      "3. Examine the paintings? \n",
      "4. Examine the piano?\n",
      "type the digit coresponding to the choice you make 3\n",
      "You approach the paintings. On inspection, they all appear to be print of famous works. There is Da Vinci's Mona Lisa, Van Gogh's Starry Night, Monet's Lilies, Vermeer's Girl with a Pearl Earring, Picasso's Guernica, Dali's The Big Sleep, and Munch's The Scream. There is also a plaque beneath the paintings with words on it.\n",
      "Would you like to \n",
      "1. Examine the fireplace? \n",
      "2. Examine the table? \n",
      "3. Examine the piano? \n",
      "4. Look at a painting more closely? \n",
      "5. Look at the plaque?\n",
      "type the digit coresponding to the choice you make 5\n",
      "You approach the plaque beneath the paintings. It says: \n",
      "''\n",
      "Would you like to \n",
      "1. Examine the fireplace? \n",
      "2. Examine the table? \n",
      "3. Examine the piano? \n",
      "4. Look at a painting more closely?\n",
      "please type the digit corresponding to the choice you make 4\n",
      "Which painting would you like to view? \n",
      "1. The Mona Lisa \n",
      "2. Starry Night \n",
      "3. Lilies \n",
      "4. Girl with a Pearl Earring \n",
      "5. Guernica \n",
      "6. The Big Sleep \n",
      "7. The Scream \n",
      "8. I don't want to look at a painting.\n",
      "type the digit corresponding to the choice you make 1\n"
     ]
    }
   ],
   "source": [
    "while (alive == True and win == False):\n",
    "    while current_event == 1: #start screen\n",
    "        print(ev0001)\n",
    "        print(opt0001)\n",
    "        choice = input(\"type the digit coresponding to the choice you make \")\n",
    "        if choice == \"1\":\n",
    "            current_event = 2\n",
    "        elif choice == \"2\":\n",
    "            current_event = 3\n",
    "        elif choice == \"3\":\n",
    "            current_event = 4\n",
    "        elif choice == \"4\":\n",
    "            current_event = 5\n",
    "        else:\n",
    "            print(\"please type a valid digit \")\n",
    "    while current_event == 2: #examine fireplace\n",
    "        print(ev0002)\n",
    "        print(opt0002)\n",
    "        choice = input(\"type the digit coresponding to the choice you make \")\n",
    "        if choice == \"1\":\n",
    "            current_event = 3\n",
    "        elif choice == \"2\":\n",
    "            current_event = 4\n",
    "        elif choice == \"3\":\n",
    "            current_event = 4\n",
    "        elif choice == \"4\":\n",
    "            current_event = 6\n",
    "        elif choice == \"5\":\n",
    "            current_event = 7\n",
    "        else:\n",
    "            print(\"please type a valid digit \")\n",
    "    while current_event == 3: #examine table\n",
    "        print(ev0003)\n",
    "        print(opt0003)\n",
    "        choice = input(\"type the digit coresponding to the choice you make \")\n",
    "        if choice == \"1\":\n",
    "            current_event = 2\n",
    "        elif choice == \"2\":\n",
    "            current_event = 4\n",
    "        elif choice == \"3\":\n",
    "            current_event = 5\n",
    "        elif choice == \"4\":\n",
    "            current_event = 8\n",
    "        else:\n",
    "            print(\"please type a valid digit \")\n",
    "    while current_event == 4: #examine paintings\n",
    "        print(ev0004)\n",
    "        print(opt0004)\n",
    "        choice = input(\"type the digit coresponding to the choice you make \")\n",
    "        if choice == \"1\":\n",
    "            current_event = 2\n",
    "        elif choice == \"2\":\n",
    "            current_event = 3\n",
    "        elif choice == \"3\":\n",
    "            current_event = 5\n",
    "        elif choice == \"4\":\n",
    "            current_event = 11\n",
    "        elif choice == \"5\":\n",
    "            current_event = 22\n",
    "        else:\n",
    "            print(\"please type a valid digit \")\n",
    "    while current_event == 5: #examine piano\n",
    "        print(ev0005)\n",
    "        print(opt0005)\n",
    "        choice = input(\"type the digit coresponding to the choice you make \")\n",
    "        if choice == \"1\": \n",
    "            current_event = 2\n",
    "        elif choice == \"2\":\n",
    "            current_event = 3\n",
    "        elif choice == \"3\":\n",
    "            current_event = 4\n",
    "        elif choice == \"4\":\n",
    "            current_event = 12\n",
    "        elif choice == \"5\":\n",
    "            current_event = 13\n",
    "        else: \n",
    "            print(\"please type a valid digit \")          \n",
    "    while current_event == 6: #take the poker.\n",
    "        print(ev0006)\n",
    "        print(opt0006)\n",
    "        firepoker = True\n",
    "        choice = input(\"type the digit coresponding to the choice you make \")\n",
    "        if choice == \"1\":\n",
    "            current_event = 2\n",
    "        elif choice == \"2\":\n",
    "            current_event = 3\n",
    "        elif choice == \"3\":\n",
    "            current_event = 4\n",
    "        elif choice == \"4\":\n",
    "            current_event = 5\n",
    "        else:\n",
    "            print(\"please type a valid digit \")\n",
    "    while current_event == 7 and alive == True: #touch fireplace. BOOM.\n",
    "        print(ev0007)\n",
    "        alive = False         \n",
    "    while current_event == 8: #examine chessboard\n",
    "        print(ev0008)\n",
    "        print(ev0008)\n",
    "        choice = input(\"type the digit coresponding to the choice you make \")\n",
    "        if choice == \"1\":\n",
    "            current_event = 2\n",
    "        elif choice == \"2\":\n",
    "            current_event = 3\n",
    "        elif choice == \"3\":\n",
    "            current_event = 4\n",
    "        elif choice == \"4\":\n",
    "            current_event = 9\n",
    "        elif choice == \"nd4\":\n",
    "            current_event = 10\n",
    "        else:\n",
    "            print(\"please type a valid digit \")\n",
    "    #while current_event == 9: #move chessboard violently\n",
    "        \n",
    "    #while current_event == 10: #move chessboard gently\n",
    "        \n",
    "    while current_event == 11: #\"look at a painting\"\n",
    "        print(opt0011)\n",
    "        choice = input(\"type the digit corresponding to the choice you make \")\n",
    "        if choice == \"1\":\n",
    "            current_event = 14\n",
    "        elif choice == \"2\":\n",
    "            current_event = 15\n",
    "        elif choice == \"3\":\n",
    "            current_event = 16\n",
    "        elif choice == \"4\":\n",
    "            current_event = 17\n",
    "        elif choice == \"5\":\n",
    "            current_event = 18\n",
    "        elif choice == \"6\":\n",
    "            current_event = 19\n",
    "        elif choice == \"7\":\n",
    "            current_event = 20\n",
    "        elif choice == \"8\":\n",
    "            current_event = 21\n",
    "        else:\n",
    "            print(\"please type a valid digit\")\n",
    "    while current_event == 12: #play piano\n",
    "        print(ev0012)\n",
    "        print(opt0012)\n",
    "        choice = input(\"type the digit corresponding to the choice you make \")\n",
    "    #while current_event == 13: #open piano \n",
    "    \n",
    "    #while current_event == 14: #mona lisa\n",
    "        \n",
    "    #while current_event == 15: #starry night\n",
    "    \n",
    "    #while current_event == 16: # lilies\n",
    "\n",
    "    #while current_event == 17: #girl with a pearl earring\n",
    "    \n",
    "    #while current_event == 18: #guernica \n",
    "    \n",
    "    #while current_event == 19: #The big sleep\n",
    "    \n",
    "    #while current_event == 20: #the scream\n",
    "    \n",
    "    while current_event == 21: #not examining painting\n",
    "        print(ev0021)\n",
    "        print(opt0021)\n",
    "        choice = input(\"please type the digit corresponding to the choice you make \")\n",
    "        if choice == \"1\":\n",
    "            current_event = 2\n",
    "        elif choice == \"2\":\n",
    "            current_event = 3\n",
    "        elif choice == \"3\": \n",
    "            current_event = 5\n",
    "        else:\n",
    "            print(\"please type a valid digit \")\n",
    "    while current_event == 22: #examine plaque\n",
    "        print(ev0022)\n",
    "        print(opt0022)\n",
    "        choice = input(\"please type the digit corresponding to the choice you make \")\n",
    "        if choice == \"1\":\n",
    "            current_event = 2\n",
    "        elif choice == \"2\":\n",
    "            current_event = 3\n",
    "        elif choice == \"3\":\n",
    "            current_event = 5\n",
    "        elif choice == \"4\":\n",
    "            current_event = 11\n",
    "        else:\n",
    "            print(\"please type a valid digit \")\n",
    "    #while current_event == 23:\n",
    "    \n",
    "    #while current_event == 24:\n",
    "    \n",
    "    #while current_event == 25:\n",
    "    "
   ]
  },
  {
   "cell_type": "code",
   "execution_count": 8,
   "metadata": {},
   "outputs": [
    {
     "name": "stdout",
     "output_type": "stream",
     "text": [
      "You approach the plaque beneath the paintings. It says: \n",
      "''\n",
      "Would you like to \n",
      "1. Examine the fireplace? \n",
      "2. Examine the table? \n",
      "3. Examine the piano? \n",
      "4. Look at a painting more closely?\n"
     ]
    }
   ],
   "source": [
    "print(ev0022)\n",
    "print(opt0022)"
   ]
  },
  {
   "cell_type": "code",
   "execution_count": 14,
   "metadata": {},
   "outputs": [
    {
     "name": "stdout",
     "output_type": "stream",
     "text": [
      "You approach the table.  It is a glossy dark red, and comes to just below waist height. There is a chess set on the table, as well as a score sheet. White is in checkmate.\n",
      "Would you like to \n",
      "1. Examine the fireplace? \n",
      "2. Examine the paintings? \n",
      "3. Examine the piano? \n",
      "4 Examine the chessboard?\n",
      "type the digit coresponding to the choice you make 3\n"
     ]
    }
   ],
   "source": [
    "while current_event == 3:\n",
    "    print(ev0003)\n",
    "    print(opt0003)\n",
    "    choice = input(\"type the digit coresponding to the choice you make \")"
   ]
  },
  {
   "cell_type": "code",
   "execution_count": 11,
   "metadata": {},
   "outputs": [
    {
     "name": "stdout",
     "output_type": "stream",
     "text": [
      "Would you like to \n",
      "1. Examine the table? \n",
      "2. Examine the paintings? \n",
      "3. Examine the piano? \n",
      "4. Take the poker? \n",
      "5. Touch the fire?\n"
     ]
    }
   ],
   "source": [
    "print(opt0002)"
   ]
  },
  {
   "cell_type": "code",
   "execution_count": 10,
   "metadata": {},
   "outputs": [],
   "source": [
    "choice = \"5\""
   ]
  },
  {
   "cell_type": "code",
   "execution_count": 14,
   "metadata": {},
   "outputs": [],
   "source": [
    "if choice == \"1\":  #this is to test some code from the first if statement. I think that the while loop will solve many problems.\n",
    "    current_event = 2\n",
    "elif choice == \"2\":\n",
    "    current_event = 3\n",
    "elif choice == \"3\":\n",
    "    current_event = 4\n",
    "elif choice == \"4\":\n",
    "    current_event = 5\n",
    "else:\n",
    "    choice = input (\"please type a valid digit\")"
   ]
  },
  {
   "cell_type": "code",
   "execution_count": 13,
   "metadata": {},
   "outputs": [
    {
     "data": {
      "text/plain": [
       "2"
      ]
     },
     "execution_count": 13,
     "metadata": {},
     "output_type": "execute_result"
    }
   ],
   "source": [
    "current_event"
   ]
  },
  {
   "cell_type": "code",
   "execution_count": 4,
   "metadata": {},
   "outputs": [
    {
     "name": "stdout",
     "output_type": "stream",
     "text": [
      "/nYou stretch your hand into the fire. That was very stupid of you. A bottle of nitroglycerin falls from a hidden compartment in the chimney. BOOM. You are dead.\n"
     ]
    }
   ],
   "source": [
    "print(ev0013)"
   ]
  },
  {
   "cell_type": "code",
   "execution_count": null,
   "metadata": {},
   "outputs": [],
   "source": [
    "alive = True\n",
    "win = False\n",
    "x = 4\n",
    "if (alive == True and win == False):\n",
    "    while x == 7:\n",
    "        print(\"you are dead\")\n",
    "        alive = False\n",
    "    while x < 7:\n",
    "        x = (x + 1)\n",
    "        print(x)\n",
    "    while x == 7 and alive == True:\n",
    "        print(\"you are dead\")\n",
    "        alive = False\n"
   ]
  },
  {
   "cell_type": "code",
   "execution_count": 24,
   "metadata": {},
   "outputs": [],
   "source": [
    "current_event = 8"
   ]
  },
  {
   "cell_type": "code",
   "execution_count": 25,
   "metadata": {},
   "outputs": [
    {
     "name": "stdout",
     "output_type": "stream",
     "text": [
      "You look at the chess set. There is a score sheet, indicating that eighteen pieces have been captured and removed from play. White is in checkmate.\n",
      "Would you like to \n",
      "1. Examine the fireplace? \n",
      "2. Examine the paintings? \n",
      "3. Examine the piano? \n",
      "4. Move the chessboard?\n",
      "type the digit coresponding to the choice you make nd4\n",
      "<class 'str'>\n",
      "10\n"
     ]
    }
   ],
   "source": [
    "while current_event == 8: #examine chessboard\n",
    "    print(ev0008)\n",
    "    print(opt0008)\n",
    "    choice = input(\"type the digit coresponding to the choice you make \")\n",
    "    if choice == \"1\":\n",
    "        current_event = 2\n",
    "    elif choice == \"2\":\n",
    "        current_event = 3\n",
    "    elif choice == \"3\":\n",
    "        current_event = 4\n",
    "    elif choice == \"4\":\n",
    "        current_event = 9\n",
    "    elif choice == \"nd4\":\n",
    "        current_event = 10\n",
    "    else:\n",
    "        print(\"please type a valid digit \")\n",
    "     \n",
    "        \n",
    "print(type(choice))\n",
    "print(current_event)\n",
    "\n",
    "\n",
    "\n",
    "\n"
   ]
  },
  {
   "cell_type": "code",
   "execution_count": null,
   "metadata": {},
   "outputs": [],
   "source": []
  },
  {
   "cell_type": "code",
   "execution_count": null,
   "metadata": {},
   "outputs": [],
   "source": []
  }
 ],
 "metadata": {
  "kernelspec": {
   "display_name": "Python 3",
   "language": "python",
   "name": "python3"
  },
  "language_info": {
   "codemirror_mode": {
    "name": "ipython",
    "version": 3
   },
   "file_extension": ".py",
   "mimetype": "text/x-python",
   "name": "python",
   "nbconvert_exporter": "python",
   "pygments_lexer": "ipython3",
   "version": "3.6.5"
  }
 },
 "nbformat": 4,
 "nbformat_minor": 2
}
